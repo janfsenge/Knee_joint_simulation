{
 "cells": [
  {
   "cell_type": "markdown",
   "metadata": {},
   "source": [
    "Import the necessary modules"
   ]
  },
  {
   "cell_type": "code",
   "execution_count": 2,
   "metadata": {},
   "outputs": [],
   "source": [
    "import numpy as np\n",
    "import networkx as nx\n",
    "import matplotlib.pyplot as plt\n",
    "\n",
    "import subprocess\n",
    "import os\n",
    "from pathlib import Path\n",
    "\n",
    "from tqdm import tqdm\n",
    "\n",
    "import gudhi as gd\n",
    "from gudhi.point_cloud.timedelay import TimeDelayEmbedding\n",
    "\n",
    "# import from own module\n",
    "from knee_joints import Knee_Joints, Joints\n",
    "from knee_joints import create_fig"
   ]
  },
  {
   "cell_type": "markdown",
   "metadata": {},
   "source": [
    "set the parameter and the types of samples to be considered"
   ]
  },
  {
   "cell_type": "code",
   "execution_count": 3,
   "metadata": {},
   "outputs": [],
   "source": [
    "periodicity = 100\n",
    "number_steps = 1000\n",
    "limit_plot = 1000\n",
    "overwrite = False\n",
    "redo = False\n",
    "\n",
    "params = {'folder': -1,\n",
    "          'move_method': -1,\n",
    "          'noise': 0,\n",
    "          'bandwidth': 0,\n",
    "          'time_updater': 1}\n",
    "\n",
    "samples = [{'folder': 'images_smooth',\n",
    "            'move_method': 'sinoidal'},\n",
    "           # quicker pace\n",
    "           {'folder': 'images_smooth_quick',\n",
    "            'move_method': 'sinoidal',\n",
    "            'time_updater': 3},\n",
    "           # noisy\n",
    "           {'folder': 'images_noisy',\n",
    "            'move_method': 'sinoidal_noise',\n",
    "            'noise': 0.01},\n",
    "           {'folder': 'images_noisy',\n",
    "            'move_method': 'sinoidal_noise',\n",
    "            'noise': 0.1},\n",
    "           {'folder': 'images_last-point',\n",
    "            'move_method': 'last_point',\n",
    "            'noise': 0,\n",
    "            'bandwidth': 0.1},\n",
    "           # last point\n",
    "           {'folder': 'images_last-point',\n",
    "            'move_method': 'last_point',\n",
    "            'noise': 0.1,\n",
    "            'bandwidth': 0.1},\n",
    "           {'folder': 'images_last-point',\n",
    "            'move_method': 'last_point',\n",
    "            'noise': 0.01,\n",
    "            'bandwidth': 0.1},\n",
    "           # skip\n",
    "           {'folder': 'images_skip',\n",
    "            'move_method': 'skip_overextension',\n",
    "            'noise': 0,\n",
    "            'bandwidth': 0.1},\n",
    "           {'folder': 'images_skip',\n",
    "            'move_method': 'skip_overextension',\n",
    "            'noise': 0.1,\n",
    "            'bandwidth': 0.1}\n",
    "           ]"
   ]
  },
  {
   "cell_type": "markdown",
   "metadata": {},
   "source": [
    "## Simulating joints"
   ]
  },
  {
   "cell_type": "markdown",
   "metadata": {},
   "source": [
    "Perfom the simulation of the joints and save the resulting figures in the appropriate subfolder in `images` and the resulting array of x,y coordinates of each joint in `arrays`.\n",
    "\n",
    "In this example the joints are:\n",
    "\n",
    "> `kj = Knee_Joints(number_steps=periodicity)` \n",
    "> `kj.add_point_relative(xborder=[-0.25, 0.25])`\n",
    "> `kj.add_point_relative(xborder=[-0.5, 0.5])`\n",
    "> `kj.add_point_relative(xborder=[-1, 1])`"
   ]
  },
  {
   "cell_type": "code",
   "execution_count": null,
   "metadata": {},
   "outputs": [],
   "source": [
    "samples_pts = []\n",
    "pbar = tqdm(samples)\n",
    "# for folder, move_method, noise, bandwidth in pbar:\n",
    "for sample in pbar:\n",
    "    for i, key in enumerate(params):\n",
    "        if key not in sample:\n",
    "            if params[key] == -1:\n",
    "                raise ValueError(f'{key} needs to be set!')\n",
    "            else:\n",
    "                sample[key] = params[key]\n",
    "\n",
    "    # TODO need to copy these into the fields below\n",
    "    folder = sample['folder']\n",
    "    move_method = sample['move_method']\n",
    "    noise = sample['noise']\n",
    "    bandwidth = sample['bandwidth']\n",
    "    time_updater = sample['time_updater']\n",
    "\n",
    "    # find the right folder name and filename\n",
    "    if noise > 0:\n",
    "        folder = f'{folder}_{noise}'\n",
    "\n",
    "    # if we have no noise and overwrite is not True take the next one\n",
    "    if (((noise == 0 and not overwrite) or (not redo))\n",
    "       and os.path.isdir(os.path.join('images', folder))\n",
    "       and os.path.isfile(os.path.join('arrays', f'{folder}.npy'))):\n",
    "\n",
    "        print(f'  {folder} exists already, skip')\n",
    "        continue\n",
    "\n",
    "    found_folder = False\n",
    "    step = 1\n",
    "    folder_loop = folder\n",
    "    while not found_folder:\n",
    "        if not os.path.isdir(os.path.join('images', folder_loop)):\n",
    "            os.mkdir(os.path.join('images', folder_loop))\n",
    "            found_folder = True\n",
    "        elif not overwrite and os.path.isfile(os.path.join('images', \n",
    "                                                           f'{folder_loop}.npy')):\n",
    "            folder_loop = f'{folder}_{step}'\n",
    "            step += 1\n",
    "        else:\n",
    "            found_folder = True\n",
    "    folder = folder_loop\n",
    "\n",
    "    # update progressbar\n",
    "    pbar.set_description(f'processing: {folder}')\n",
    "\n",
    "    # construct the knee joint\n",
    "    kj = Knee_Joints(number_steps=periodicity)\n",
    "    kj.add_point_relative(xborder=[-0.25, 0.25])\n",
    "    kj.add_point_relative(xborder=[-0.5, 0.5])\n",
    "    kj.add_point_relative(xborder=[-1, 1])\n",
    "\n",
    "    kj.save_current()\n",
    "\n",
    "    for move in range(number_steps):\n",
    "        kj.move_joint(method=move_method,\n",
    "                      noise_size=noise,\n",
    "                      bandwidth=bandwidth)\n",
    "\n",
    "    points = kj.get_history_array()\n",
    "    np.save(os.path.join('arrays', f'{folder}.npy'), points)\n",
    "    samples_pts.append(points)\n",
    "\n",
    "    n_joints = len(kj.points)\n",
    "    bbox = kj.get_bounding_box()\n",
    "\n",
    "    for j, points in enumerate(kj.history):\n",
    "        if j >= limit_plot:\n",
    "            break\n",
    "        fig, ax = plt.subplots(1, 1, dpi=200)\n",
    "        G = nx.Graph()\n",
    "\n",
    "        keys = list(points.keys())\n",
    "        G.add_nodes_from(keys)\n",
    "        G.add_edges_from([(keys[i], keys[i+1])\n",
    "                          for i in range(len(keys)-1)])\n",
    "\n",
    "        pos = [points[key] for key in keys]\n",
    "        nx.draw(G, pos, ax=ax)\n",
    "        ax.set_title(' '.join(folder.split('_')[1:]))\n",
    "        ax.set_xlim(left=bbox[0]-1, right=bbox[1]+1)\n",
    "        ax.set_ylim(bottom=bbox[2]-1, top=bbox[3]+1)\n",
    "\n",
    "        fig.savefig(os.path.join('images', f'./{folder}/movement_{j:04d}.png'))\n",
    "        plt.close(fig)"
   ]
  },
  {
   "cell_type": "markdown",
   "metadata": {},
   "source": [
    "## Gif creation"
   ]
  },
  {
   "cell_type": "markdown",
   "metadata": {},
   "source": [
    "Get the folder for which images and arrays were created"
   ]
  },
  {
   "cell_type": "code",
   "execution_count": null,
   "metadata": {},
   "outputs": [],
   "source": [
    "# get the folders\n",
    "\n",
    "folders = []\n",
    "for item in Path('images').iterdir():\n",
    "    if (item.is_dir()\n",
    "       and str(item.name).startswith('images_')):\n",
    "        # if not os.path.isfile(os.path.join('arrays', f'{item.name}.npy')):\n",
    "        #     print(f\"  {item.name} doesn't have an associated array!\")\n",
    "        # else:\n",
    "        folders.append(item.name)\n",
    "\n",
    "# sort folders and put 'images_smooth' in \n",
    "# first position if it exists\n",
    "folders.sort()\n",
    "if 'images_smooth' in folders:\n",
    "    folders.remove('images_smooth')\n",
    "    folders.insert(0, 'images_smooth')"
   ]
  },
  {
   "cell_type": "markdown",
   "metadata": {},
   "source": [
    "Create the gifs from the image files"
   ]
  },
  {
   "cell_type": "code",
   "execution_count": null,
   "metadata": {},
   "outputs": [],
   "source": [
    "# get the gifs\n",
    "\n",
    "pbar = tqdm(folders)\n",
    "for folder in pbar:\n",
    "    if not os.path.isfile(f'anim_{folder}.gif'):\n",
    "        pbar.set_description(f'processing: {folder}')\n",
    "        call = ['convert', '-scale', '50%',\n",
    "                '-delay', '10', '-loop', '0',\n",
    "                f'images/{folder}/*.png', f'animation/anim_{folder}.gif']\n",
    "        subprocess.call(call)\n"
   ]
  },
  {
   "cell_type": "markdown",
   "metadata": {},
   "source": [
    "## Persistence plots"
   ]
  },
  {
   "cell_type": "code",
   "execution_count": 11,
   "metadata": {},
   "outputs": [
    {
     "name": "stdout",
     "output_type": "stream",
     "text": [
      "['images_smooth.npy', 'images_last-point.npy', 'images_last-point_0.01.npy', 'images_last-point_0.1.npy', 'images_noisy_0.01.npy', 'images_noisy_0.1.npy', 'images_skip.npy', 'images_skip_0.1.npy', 'images_smooth_quick.npy']\n"
     ]
    }
   ],
   "source": [
    "# get the folders\n",
    "\n",
    "folders = []\n",
    "for item in Path('arrays').iterdir():\n",
    "    if (str(item.name).startswith('images_')\n",
    "       and str(item.name).endswith('.npy')):\n",
    "        folders.append(item.name)\n",
    "\n",
    "# sort folders and put 'images_smooth' in \n",
    "# first position if it exists\n",
    "folders.sort()\n",
    "if 'images_smooth.npy' in folders:\n",
    "    folders.remove('images_smooth.npy')\n",
    "    folders.insert(0, 'images_smooth.npy')\n",
    "\n",
    "samples_all = [(i,\n",
    "                '_'.join(folders[i].split('_')[1:]),\n",
    "                np.load(os.path.join('arrays', f'{folders[i]}')))\n",
    "               for i in range(len(folders))]\n",
    "\n",
    "print(folders)"
   ]
  },
  {
   "cell_type": "markdown",
   "metadata": {},
   "source": [
    "Get the distances between consective slices for each of the samples and their embedded point clouds"
   ]
  },
  {
   "cell_type": "code",
   "execution_count": 12,
   "metadata": {},
   "outputs": [],
   "source": [
    "l2 = []\n",
    "for _, _, points_plot in samples_all:\n",
    "    l2.append([np.linalg.norm(points_plot[i+1] - points_plot[i])\n",
    "               for i in range(points_plot.shape[0]-1)])\n",
    "\n",
    "tc_embed = TimeDelayEmbedding()\n",
    "pc_taken = tc_embed.transform(l2)"
   ]
  },
  {
   "cell_type": "markdown",
   "metadata": {},
   "source": [
    "Now plot the persistence diagrams (and calculate the persistence):"
   ]
  },
  {
   "cell_type": "code",
   "execution_count": 13,
   "metadata": {},
   "outputs": [
    {
     "ename": "TypeError",
     "evalue": "object of type 'int' has no len()",
     "output_type": "error",
     "traceback": [
      "\u001b[0;31m---------------------------------------------------------------------------\u001b[0m",
      "\u001b[0;31mTypeError\u001b[0m                                 Traceback (most recent call last)",
      "\u001b[1;32m/Users/janfelixsenge/GitHub/Knee_joint_simulation/knee_joints.ipynb Cell 18\u001b[0m in \u001b[0;36m<cell line: 1>\u001b[0;34m()\u001b[0m\n\u001b[0;32m----> <a href='vscode-notebook-cell:/Users/janfelixsenge/GitHub/Knee_joint_simulation/knee_joints.ipynb#X21sZmlsZQ%3D%3D?line=0'>1</a>\u001b[0m fig, ax_list \u001b[39m=\u001b[39m create_fig(\u001b[39mlen\u001b[39;49m(samples_all))\n\u001b[1;32m      <a href='vscode-notebook-cell:/Users/janfelixsenge/GitHub/Knee_joint_simulation/knee_joints.ipynb#X21sZmlsZQ%3D%3D?line=2'>3</a>\u001b[0m \u001b[39mfor\u001b[39;00m i \u001b[39min\u001b[39;00m \u001b[39mrange\u001b[39m(\u001b[39mlen\u001b[39m(samples_all)):\n\u001b[1;32m      <a href='vscode-notebook-cell:/Users/janfelixsenge/GitHub/Knee_joint_simulation/knee_joints.ipynb#X21sZmlsZQ%3D%3D?line=3'>4</a>\u001b[0m     ax_list[i]\u001b[39m.\u001b[39mplot(\u001b[39mrange\u001b[39m(\u001b[39mlen\u001b[39m(l2[i])), l2[i])\n",
      "File \u001b[0;32m~/GitHub/Knee_joint_simulation/knee_joints.py:263\u001b[0m, in \u001b[0;36mcreate_fig\u001b[0;34m(n_subfigs, row_factor, col_factor)\u001b[0m\n\u001b[1;32m    262\u001b[0m \u001b[39mdef\u001b[39;00m \u001b[39mcreate_fig\u001b[39m(n_subfigs, row_factor\u001b[39m=\u001b[39m\u001b[39m4\u001b[39m, col_factor\u001b[39m=\u001b[39m\u001b[39m4\u001b[39m):\n\u001b[0;32m--> 263\u001b[0m     rows, cols \u001b[39m=\u001b[39m get_rows_cols(\u001b[39mlen\u001b[39;49m(n_subfigs))\n\u001b[1;32m    264\u001b[0m     fig, ax \u001b[39m=\u001b[39m plt\u001b[39m.\u001b[39msubplots(rows, cols, dpi\u001b[39m=\u001b[39m\u001b[39m200\u001b[39m,\n\u001b[1;32m    265\u001b[0m                            figsize\u001b[39m=\u001b[39m(col_factor\u001b[39m*\u001b[39mcols,\n\u001b[1;32m    266\u001b[0m                                     row_factor\u001b[39m*\u001b[39mrows))\n\u001b[1;32m    267\u001b[0m     ax_list \u001b[39m=\u001b[39m get_ax_list(ax, rows, cols, rows\u001b[39m*\u001b[39mcols)\n",
      "\u001b[0;31mTypeError\u001b[0m: object of type 'int' has no len()"
     ]
    }
   ],
   "source": [
    "fig, ax_list = create_fig(samples_all)\n",
    "\n",
    "for i in range(len(samples_all)):\n",
    "    ax_list[i].plot(range(len(l2[i])), l2[i])\n",
    "    ax_list[i].set_title(samples_all[i][1])\n",
    "\n",
    "for i in range(len(samples_all), len(ax_list)):\n",
    "    ax_list[i].remove()\n",
    "\n",
    "fig.suptitle('Distances of consecutive image frames')\n",
    "fig.tight_layout()\n",
    "fig.savefig('plots/distance_bw_consecutive_frames.png')"
   ]
  },
  {
   "cell_type": "code",
   "execution_count": null,
   "metadata": {},
   "outputs": [],
   "source": [
    "fig, ax_list = create_fig(len(samples_all))\n",
    "\n",
    "for i in range(len(samples_all)):\n",
    "    ax_list[i].scatter(pc_taken[i][:, 0], pc_taken[i][:, 1])\n",
    "    ax_list[i].set_title(samples_all[i][1])\n",
    "\n",
    "for i in range(len(samples_all), len(ax_list)):\n",
    "    ax_list[i].remove()\n",
    "\n",
    "fig.suptitle('Time delay embedding into dim=2, skip=1, delay=1')\n",
    "fig.tight_layout()\n",
    "fig.savefig('plots/time_delay_consecutive_frames.png')"
   ]
  },
  {
   "cell_type": "code",
   "execution_count": null,
   "metadata": {},
   "outputs": [],
   "source": [
    "fig, ax_list = create_fig(len(samples_all))\n",
    "\n",
    "for i, txt, _ in samples_all:\n",
    "    acX = gd.AlphaComplex(points=pc_taken[i]).create_simplex_tree()\n",
    "    dgmX = acX.persistence()\n",
    "    gd.plot_persistence_diagram(dgmX, axes=ax_list[i])\n",
    "    ax_list[i].set_title(txt)\n",
    "\n",
    "for i in range(len(samples_all), len(ax_list)):\n",
    "    ax_list[i].remove()\n",
    "\n",
    "fig.suptitle('Persistence Diagrams of alpha complex of point cloud of time delay embedding.')\n",
    "fig.tight_layout()\n",
    "fig.savefig('plots/alpha_timedelay.png')"
   ]
  },
  {
   "cell_type": "code",
   "execution_count": null,
   "metadata": {},
   "outputs": [],
   "source": [
    "fig, ax_list = create_fig(len(samples_all))\n",
    "\n",
    "for i, txt, _ in samples_all:\n",
    "    acX = gd.RipsComplex(points=pc_taken[i]).create_simplex_tree()\n",
    "    dgmX = acX.persistence()\n",
    "    gd.plot_persistence_diagram(dgmX, axes=ax_list[i])\n",
    "    ax_list[i].set_title(txt)\n",
    "\n",
    "for i in range(len(samples_all), len(ax_list)):\n",
    "    ax_list[i].remove()\n",
    "\n",
    "fig.suptitle('Persistence Diagrams of alpha complex of point cloud of time delay embedding.')\n",
    "fig.tight_layout()\n",
    "fig.savefig('plots/VR_timedelay.png')"
   ]
  },
  {
   "cell_type": "code",
   "execution_count": null,
   "metadata": {},
   "outputs": [],
   "source": [
    "fig, ax_list = create_fig(len(samples_all))\n",
    "\n",
    "for k, txt, points_plot in samples_all:\n",
    "    dist_mat = np.zeros([len(points_plot), len(points_plot)])\n",
    "    for i in range(len(points_plot)):\n",
    "        for j in range(i+1, len(points_plot)):\n",
    "            dist_mat[i, j] = np.linalg.norm(points_plot[i] - points_plot[j])\n",
    "            dist_mat[j, i] = dist_mat[i, j]\n",
    "\n",
    "    acX = gd.RipsComplex(distance_matrix=dist_mat).create_simplex_tree()\n",
    "    dgmX = acX.persistence()\n",
    "    gd.plot_persistence_diagram(dgmX, axes=ax_list[k])\n",
    "\n",
    "    ax_list[k].set_title(txt)\n",
    "\n",
    "for i in range(len(samples_all), len(ax_list)):\n",
    "    ax_list[i].remove()\n",
    "\n",
    "fig.suptitle('Persistence Diagrams of vietoris rips complex'\n",
    "             + ' of distance point cloud.')\n",
    "fig.tight_layout()\n",
    "fig.savefig('plots/VR_pwDistances.png')"
   ]
  }
 ],
 "metadata": {
  "kernelspec": {
   "display_name": "Python 3.9.13 ('mergegram')",
   "language": "python",
   "name": "python3"
  },
  "language_info": {
   "codemirror_mode": {
    "name": "ipython",
    "version": 3
   },
   "file_extension": ".py",
   "mimetype": "text/x-python",
   "name": "python",
   "nbconvert_exporter": "python",
   "pygments_lexer": "ipython3",
   "version": "3.9.13"
  },
  "orig_nbformat": 4,
  "vscode": {
   "interpreter": {
    "hash": "892774cd6d2b8da8a1bdb3bb82c4fdda66070a8228cb4b18ff8ebe4bdd9ba0b1"
   }
  }
 },
 "nbformat": 4,
 "nbformat_minor": 2
}
